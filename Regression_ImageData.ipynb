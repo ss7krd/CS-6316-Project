{
 "cells": [
  {
   "cell_type": "markdown",
   "metadata": {
    "id": "LHUNZYCArtRu"
   },
   "source": [
    "### Import Library"
   ]
  },
  {
   "cell_type": "code",
   "execution_count": null,
   "metadata": {
    "id": "aNSim6tWrtRy"
   },
   "outputs": [],
   "source": [
    "import pandas as pd\n",
    "import numpy as np\n",
    "import os\n",
    "from glob import glob\n",
    "import matplotlib.pylab as plt\n",
    "from sklearn.model_selection import train_test_split\n",
    "from sklearn.metrics import accuracy_score\n",
    "import pandas as pd\n",
    "import numpy as np\n",
    "from sklearn.svm import SVC\n",
    "import sys\n",
    "from csv import writer\n",
    "import csv\n",
    "from sklearn.linear_model import LogisticRegression\n",
    "%matplotlib inline"
   ]
  },
  {
   "cell_type": "code",
   "execution_count": null,
   "metadata": {
    "colab": {
     "base_uri": "https://localhost:8080/"
    },
    "id": "3bOEjDEarwE6",
    "outputId": "f0b87ea7-1842-4f89-e807-2a1d8595301b"
   },
   "outputs": [
    {
     "name": "stdout",
     "output_type": "stream",
     "text": [
      "Drive already mounted at /content/drive; to attempt to forcibly remount, call drive.mount(\"/content/drive\", force_remount=True).\n"
     ]
    }
   ],
   "source": [
    "from google.colab import drive\n",
    "drive.mount('/content/drive')"
   ]
  },
  {
   "cell_type": "markdown",
   "metadata": {
    "id": "ycdPUyV7rtRz"
   },
   "source": [
    "### Read Dataset"
   ]
  },
  {
   "cell_type": "code",
   "execution_count": null,
   "metadata": {
    "id": "lBVWd2hFrtR0"
   },
   "outputs": [],
   "source": [
    "path = \"/content/drive/MyDrive/Dataset_BUSI_with_GT/\"\n",
    "imagepatches = glob(\"/content/drive/MyDrive/Dataset_BUSI_with_GT/**/*).png\",recursive=True)\n",
    "# for filename in imagepatches[0:10]:\n",
    "#   print(filename)"
   ]
  },
  {
   "cell_type": "markdown",
   "metadata": {
    "id": "YWJ-_CDkYU2H"
   },
   "source": [
    "## Data Preprocessing"
   ]
  },
  {
   "cell_type": "code",
   "execution_count": null,
   "metadata": {
    "id": "_r7a0CyXX7da"
   },
   "outputs": [],
   "source": [
    "import random\n",
    "\n",
    "class0 = []\n",
    "class1 = []\n",
    "class2 = []\n",
    "\n",
    "for filename in imagepatches:\n",
    "  if filename.find(\"normal\") != -1:\n",
    "    class0.append(filename)\n",
    "  elif filename.find(\"malignant\") != -1:\n",
    "    class1.append(filename)\n",
    "  else:\n",
    "    class2.append(filename)\n",
    "\n",
    "#randomizing the values\n",
    "sample_class0 = random.sample(class0,len(class0))\n",
    "sample_class1 = random.sample(class1,len(class1))\n",
    "sample_class2 = random.sample(class2,len(class2))"
   ]
  },
  {
   "cell_type": "code",
   "execution_count": null,
   "metadata": {
    "id": "OXntDbjMYGxQ"
   },
   "outputs": [],
   "source": [
    "#for image resoltuion 50\n",
    "from matplotlib.image import imread\n",
    "import cv2\n",
    "\n",
    "size = 128\n",
    "def get_image_arrays(data,label,size=(50,50)):\n",
    "  img_arrays = []\n",
    "  for i in data:\n",
    "    if i.endswith(\".png\"):\n",
    "      img = cv2.imread(i,cv2.IMREAD_COLOR)\n",
    "      img_sized = cv2.resize(img, size, interpolation=cv2.INTER_LINEAR)\n",
    "      img_arrays.append([img_sized.flatten(),label])\n",
    "  return img_arrays\n",
    "\n",
    "# class0_array_50 = get_image_arrays(sample_class0,0,(size,size))\n",
    "# class1_array_50 = get_image_arrays(sample_class1,1,(size,size))\n",
    "# class2_array_50 = get_image_arrays(sample_class2,2,(size,size))\n",
    "\n",
    "class0_array_128 = get_image_arrays(sample_class0,0,(size,size))\n",
    "class1_array_128 = get_image_arrays(sample_class1,1,(size,size))\n",
    "class2_array_128 = get_image_arrays(sample_class2,2,(size,size))"
   ]
  },
  {
   "cell_type": "code",
   "execution_count": null,
   "metadata": {
    "colab": {
     "base_uri": "https://localhost:8080/"
    },
    "id": "Gpa7h2iKYNMy",
    "outputId": "8c36ff3e-a6bd-433a-8ada-076e39e628d3"
   },
   "outputs": [
    {
     "name": "stderr",
     "output_type": "stream",
     "text": [
      "<string>:6: VisibleDeprecationWarning: Creating an ndarray from ragged nested sequences (which is a list-or-tuple of lists-or-tuples-or ndarrays with different lengths or shapes) is deprecated. If you meant to do this, you must specify 'dtype=object' when creating the ndarray.\n"
     ]
    }
   ],
   "source": [
    "import random\n",
    "# combined_data = np.concatenate((class0_array_50,class1_array_50))\n",
    "# combined_data = np.concatenate((combined_data,class2_array_50))\n",
    "\n",
    "combined_data = np.concatenate((class0_array_128,class1_array_128))\n",
    "combined_data = np.concatenate((combined_data,class2_array_128))\n",
    "\n",
    "random.seed(42)\n",
    "random.shuffle(combined_data)"
   ]
  },
  {
   "cell_type": "code",
   "execution_count": null,
   "metadata": {
    "colab": {
     "base_uri": "https://localhost:8080/"
    },
    "id": "l_Ok3ZNHYPkz",
    "outputId": "36d55665-e78e-4d0d-c31c-6ed425ebcef6"
   },
   "outputs": [
    {
     "name": "stdout",
     "output_type": "stream",
     "text": [
      "(780, 49152)\n"
     ]
    }
   ],
   "source": [
    "def combined_data_fn(combined_data, shape = (-1,128,128,3)):\n",
    "  X = []\n",
    "  y = []\n",
    "  for features,label in combined_data:\n",
    "    X.append(features)\n",
    "    y.append(label)\n",
    "  flat_data=np.array(X)\n",
    "  target=np.array(y)\n",
    "  df=pd.DataFrame(flat_data) #dataframe\n",
    "  df['Target']=target\n",
    "  x=df.iloc[:,:-1] #input data \n",
    "  y=df.iloc[:,-1] #output data\n",
    "  print(x.shape)\n",
    "  return x,y\n",
    "\n",
    "x, y = combined_data_fn(combined_data)"
   ]
  },
  {
   "cell_type": "markdown",
   "metadata": {
    "id": "-rSdr-RtrtR0"
   },
   "source": [
    "### Training"
   ]
  },
  {
   "cell_type": "code",
   "execution_count": null,
   "metadata": {
    "id": "2WlTAe8TrtR1"
   },
   "outputs": [],
   "source": [
    "def training_1(training,test, splitting_ratio):\n",
    "\n",
    "    x_train,x_test,y_train,y_test=train_test_split(training,test,test_size=splitting_ratio,random_state=77,stratify=test)\n",
    "\n",
    "    clf = LogisticRegression(random_state=0, C=8.7)\n",
    "    clf.fit(x_train, y_train)\n",
    "    \n",
    "\n",
    "    y_pred=clf.predict(x_test)\n",
    "    result = accuracy_score(y_pred, y_test)\n",
    "    return result\n"
   ]
  },
  {
   "cell_type": "markdown",
   "metadata": {
    "id": "j1qctmeFrtR2"
   },
   "source": [
    "### Main Function"
   ]
  },
  {
   "cell_type": "code",
   "execution_count": null,
   "metadata": {
    "colab": {
     "base_uri": "https://localhost:8080/"
    },
    "id": "scPI7LcmrtR3",
    "outputId": "fb10c25c-9b9a-4df4-a679-41b8183b5ef9"
   },
   "outputs": [
    {
     "name": "stderr",
     "output_type": "stream",
     "text": [
      "/usr/local/lib/python3.7/dist-packages/sklearn/linear_model/_logistic.py:818: ConvergenceWarning: lbfgs failed to converge (status=1):\n",
      "STOP: TOTAL NO. of ITERATIONS REACHED LIMIT.\n",
      "\n",
      "Increase the number of iterations (max_iter) or scale the data as shown in:\n",
      "    https://scikit-learn.org/stable/modules/preprocessing.html\n",
      "Please also refer to the documentation for alternative solver options:\n",
      "    https://scikit-learn.org/stable/modules/linear_model.html#logistic-regression\n",
      "  extra_warning_msg=_LOGISTIC_SOLVER_CONVERGENCE_MSG,\n"
     ]
    },
    {
     "name": "stdout",
     "output_type": "stream",
     "text": [
      "The model is 87.17948717948718% accurate\n"
     ]
    }
   ],
   "source": [
    "## Main Function, run for only one feaure set\n",
    "print(f\"The model is {training_1(x,y,0.10)*100}% accurate\")"
   ]
  }
 ],
 "metadata": {
  "colab": {
   "name": "Regression_Image.ipynb",
   "provenance": []
  },
  "kernelspec": {
   "display_name": "Python 3 (ipykernel)",
   "language": "python",
   "name": "python3"
  },
  "language_info": {
   "codemirror_mode": {
    "name": "ipython",
    "version": 3
   },
   "file_extension": ".py",
   "mimetype": "text/x-python",
   "name": "python",
   "nbconvert_exporter": "python",
   "pygments_lexer": "ipython3",
   "version": "3.8.5"
  }
 },
 "nbformat": 4,
 "nbformat_minor": 1
}
